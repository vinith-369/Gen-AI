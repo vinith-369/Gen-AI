{
 "cells": [
  {
   "cell_type": "code",
   "execution_count": 1,
   "id": "f037d07c",
   "metadata": {},
   "outputs": [
    {
     "name": "stdout",
     "output_type": "stream",
     "text": [
      "Collecting faiss-cpu\n",
      "  Downloading faiss_cpu-1.11.0-cp39-cp39-win_amd64.whl.metadata (5.0 kB)\n",
      "Collecting sentence-transformers\n",
      "  Downloading sentence_transformers-4.1.0-py3-none-any.whl.metadata (13 kB)\n",
      "Requirement already satisfied: openai in c:\\users\\acer\\appdata\\local\\programs\\python\\python39\\lib\\site-packages (0.27.10)\n",
      "Requirement already satisfied: numpy<3.0,>=1.25.0 in c:\\users\\acer\\appdata\\local\\programs\\python\\python39\\lib\\site-packages (from faiss-cpu) (1.26.4)\n",
      "Requirement already satisfied: packaging in c:\\users\\acer\\appdata\\local\\programs\\python\\python39\\lib\\site-packages (from faiss-cpu) (24.1)\n",
      "Requirement already satisfied: transformers<5.0.0,>=4.41.0 in c:\\users\\acer\\appdata\\local\\programs\\python\\python39\\lib\\site-packages (from sentence-transformers) (4.48.1)\n",
      "Requirement already satisfied: tqdm in c:\\users\\acer\\appdata\\local\\programs\\python\\python39\\lib\\site-packages (from sentence-transformers) (4.67.1)\n",
      "Requirement already satisfied: torch>=1.11.0 in c:\\users\\acer\\appdata\\local\\programs\\python\\python39\\lib\\site-packages (from sentence-transformers) (2.5.1)\n",
      "Requirement already satisfied: scikit-learn in c:\\users\\acer\\appdata\\local\\programs\\python\\python39\\lib\\site-packages (from sentence-transformers) (1.5.2)\n",
      "Requirement already satisfied: scipy in c:\\users\\acer\\appdata\\local\\programs\\python\\python39\\lib\\site-packages (from sentence-transformers) (1.13.1)\n",
      "Requirement already satisfied: huggingface-hub>=0.20.0 in c:\\users\\acer\\appdata\\local\\programs\\python\\python39\\lib\\site-packages (from sentence-transformers) (0.27.1)\n",
      "Requirement already satisfied: Pillow in c:\\users\\acer\\appdata\\local\\programs\\python\\python39\\lib\\site-packages (from sentence-transformers) (10.4.0)\n",
      "Requirement already satisfied: typing_extensions>=4.5.0 in c:\\users\\acer\\appdata\\local\\programs\\python\\python39\\lib\\site-packages (from sentence-transformers) (4.12.2)\n",
      "Requirement already satisfied: requests>=2.20 in c:\\users\\acer\\appdata\\local\\programs\\python\\python39\\lib\\site-packages (from openai) (2.32.3)\n",
      "Requirement already satisfied: aiohttp in c:\\users\\acer\\appdata\\local\\programs\\python\\python39\\lib\\site-packages (from openai) (3.11.11)\n",
      "Requirement already satisfied: filelock in c:\\users\\acer\\appdata\\local\\programs\\python\\python39\\lib\\site-packages (from huggingface-hub>=0.20.0->sentence-transformers) (3.17.0)\n",
      "Requirement already satisfied: fsspec>=2023.5.0 in c:\\users\\acer\\appdata\\local\\programs\\python\\python39\\lib\\site-packages (from huggingface-hub>=0.20.0->sentence-transformers) (2024.9.0)\n",
      "Requirement already satisfied: pyyaml>=5.1 in c:\\users\\acer\\appdata\\local\\programs\\python\\python39\\lib\\site-packages (from huggingface-hub>=0.20.0->sentence-transformers) (6.0.2)\n",
      "Requirement already satisfied: charset-normalizer<4,>=2 in c:\\users\\acer\\appdata\\local\\programs\\python\\python39\\lib\\site-packages (from requests>=2.20->openai) (3.4.0)\n",
      "Requirement already satisfied: idna<4,>=2.5 in c:\\users\\acer\\appdata\\local\\programs\\python\\python39\\lib\\site-packages (from requests>=2.20->openai) (2.10)\n",
      "Requirement already satisfied: urllib3<3,>=1.21.1 in c:\\users\\acer\\appdata\\local\\programs\\python\\python39\\lib\\site-packages (from requests>=2.20->openai) (2.2.3)\n",
      "Requirement already satisfied: certifi>=2017.4.17 in c:\\users\\acer\\appdata\\local\\programs\\python\\python39\\lib\\site-packages (from requests>=2.20->openai) (2024.8.30)\n",
      "Requirement already satisfied: networkx in c:\\users\\acer\\appdata\\local\\programs\\python\\python39\\lib\\site-packages (from torch>=1.11.0->sentence-transformers) (3.2.1)\n",
      "Requirement already satisfied: jinja2 in c:\\users\\acer\\appdata\\local\\programs\\python\\python39\\lib\\site-packages (from torch>=1.11.0->sentence-transformers) (3.1.4)\n",
      "Requirement already satisfied: sympy==1.13.1 in c:\\users\\acer\\appdata\\local\\programs\\python\\python39\\lib\\site-packages (from torch>=1.11.0->sentence-transformers) (1.13.1)\n",
      "Requirement already satisfied: mpmath<1.4,>=1.1.0 in c:\\users\\acer\\appdata\\local\\programs\\python\\python39\\lib\\site-packages (from sympy==1.13.1->torch>=1.11.0->sentence-transformers) (1.3.0)\n",
      "Requirement already satisfied: colorama in c:\\users\\acer\\appdata\\roaming\\python\\python39\\site-packages (from tqdm->sentence-transformers) (0.4.6)\n",
      "Requirement already satisfied: regex!=2019.12.17 in c:\\users\\acer\\appdata\\local\\programs\\python\\python39\\lib\\site-packages (from transformers<5.0.0,>=4.41.0->sentence-transformers) (2024.11.6)\n",
      "Requirement already satisfied: tokenizers<0.22,>=0.21 in c:\\users\\acer\\appdata\\local\\programs\\python\\python39\\lib\\site-packages (from transformers<5.0.0,>=4.41.0->sentence-transformers) (0.21.0)\n",
      "Requirement already satisfied: safetensors>=0.4.1 in c:\\users\\acer\\appdata\\local\\programs\\python\\python39\\lib\\site-packages (from transformers<5.0.0,>=4.41.0->sentence-transformers) (0.5.2)\n",
      "Requirement already satisfied: aiohappyeyeballs>=2.3.0 in c:\\users\\acer\\appdata\\local\\programs\\python\\python39\\lib\\site-packages (from aiohttp->openai) (2.4.4)\n",
      "Requirement already satisfied: aiosignal>=1.1.2 in c:\\users\\acer\\appdata\\local\\programs\\python\\python39\\lib\\site-packages (from aiohttp->openai) (1.3.2)\n",
      "Requirement already satisfied: async-timeout<6.0,>=4.0 in c:\\users\\acer\\appdata\\local\\programs\\python\\python39\\lib\\site-packages (from aiohttp->openai) (5.0.1)\n",
      "Requirement already satisfied: attrs>=17.3.0 in c:\\users\\acer\\appdata\\local\\programs\\python\\python39\\lib\\site-packages (from aiohttp->openai) (24.2.0)\n",
      "Requirement already satisfied: frozenlist>=1.1.1 in c:\\users\\acer\\appdata\\local\\programs\\python\\python39\\lib\\site-packages (from aiohttp->openai) (1.5.0)\n",
      "Requirement already satisfied: multidict<7.0,>=4.5 in c:\\users\\acer\\appdata\\local\\programs\\python\\python39\\lib\\site-packages (from aiohttp->openai) (6.1.0)\n",
      "Requirement already satisfied: propcache>=0.2.0 in c:\\users\\acer\\appdata\\local\\programs\\python\\python39\\lib\\site-packages (from aiohttp->openai) (0.2.1)\n",
      "Requirement already satisfied: yarl<2.0,>=1.17.0 in c:\\users\\acer\\appdata\\local\\programs\\python\\python39\\lib\\site-packages (from aiohttp->openai) (1.18.3)\n",
      "Requirement already satisfied: joblib>=1.2.0 in c:\\users\\acer\\appdata\\local\\programs\\python\\python39\\lib\\site-packages (from scikit-learn->sentence-transformers) (1.4.2)\n",
      "Requirement already satisfied: threadpoolctl>=3.1.0 in c:\\users\\acer\\appdata\\local\\programs\\python\\python39\\lib\\site-packages (from scikit-learn->sentence-transformers) (3.5.0)\n",
      "Requirement already satisfied: MarkupSafe>=2.0 in c:\\users\\acer\\appdata\\local\\programs\\python\\python39\\lib\\site-packages (from jinja2->torch>=1.11.0->sentence-transformers) (3.0.2)\n",
      "Downloading faiss_cpu-1.11.0-cp39-cp39-win_amd64.whl (15.0 MB)\n",
      "   ---------------------------------------- 0.0/15.0 MB ? eta -:--:--\n",
      "   - -------------------------------------- 0.5/15.0 MB 2.8 MB/s eta 0:00:06\n",
      "   ---- ----------------------------------- 1.6/15.0 MB 3.8 MB/s eta 0:00:04\n",
      "   ------ --------------------------------- 2.4/15.0 MB 3.8 MB/s eta 0:00:04\n",
      "   -------- ------------------------------- 3.1/15.0 MB 3.8 MB/s eta 0:00:04\n",
      "   ---------- ----------------------------- 3.9/15.0 MB 4.0 MB/s eta 0:00:03\n",
      "   ------------- -------------------------- 5.0/15.0 MB 3.9 MB/s eta 0:00:03\n",
      "   --------------- ------------------------ 5.8/15.0 MB 4.0 MB/s eta 0:00:03\n",
      "   ----------------- ---------------------- 6.6/15.0 MB 3.9 MB/s eta 0:00:03\n",
      "   ------------------- -------------------- 7.3/15.0 MB 4.0 MB/s eta 0:00:02\n",
      "   ---------------------- ----------------- 8.4/15.0 MB 4.0 MB/s eta 0:00:02\n",
      "   ----------------------- ---------------- 8.9/15.0 MB 3.8 MB/s eta 0:00:02\n",
      "   -------------------------- ------------- 10.0/15.0 MB 3.9 MB/s eta 0:00:02\n",
      "   ---------------------------- ----------- 10.7/15.0 MB 3.9 MB/s eta 0:00:02\n",
      "   ------------------------------ --------- 11.5/15.0 MB 4.0 MB/s eta 0:00:01\n",
      "   -------------------------------- ------- 12.3/15.0 MB 4.0 MB/s eta 0:00:01\n",
      "   -------------------------------- ------- 12.3/15.0 MB 4.0 MB/s eta 0:00:01\n",
      "   -------------------------------- ------- 12.3/15.0 MB 4.0 MB/s eta 0:00:01\n",
      "   -------------------------------- ------- 12.3/15.0 MB 4.0 MB/s eta 0:00:01\n",
      "   -------------------------------- ------- 12.3/15.0 MB 4.0 MB/s eta 0:00:01\n",
      "   -------------------------------- ------- 12.3/15.0 MB 4.0 MB/s eta 0:00:01\n",
      "   -------------------------------- ------- 12.3/15.0 MB 4.0 MB/s eta 0:00:01\n",
      "   -------------------------------- ------- 12.3/15.0 MB 4.0 MB/s eta 0:00:01\n",
      "   -------------------------------- ------- 12.3/15.0 MB 4.0 MB/s eta 0:00:01\n",
      "   -------------------------------- ------- 12.3/15.0 MB 4.0 MB/s eta 0:00:01\n",
      "   -------------------------------- ------- 12.3/15.0 MB 4.0 MB/s eta 0:00:01\n",
      "   -------------------------------- ------- 12.3/15.0 MB 4.0 MB/s eta 0:00:01\n",
      "   -------------------------------- ------- 12.3/15.0 MB 4.0 MB/s eta 0:00:01\n",
      "   ------------------------------------ --- 13.6/15.0 MB 2.3 MB/s eta 0:00:01\n",
      "   ---------------------------------------  14.7/15.0 MB 2.4 MB/s eta 0:00:01\n",
      "   ---------------------------------------  14.9/15.0 MB 2.4 MB/s eta 0:00:01\n",
      "   ---------------------------------------  14.9/15.0 MB 2.4 MB/s eta 0:00:01\n",
      "   ---------------------------------------  14.9/15.0 MB 2.4 MB/s eta 0:00:01\n",
      "   ---------------------------------------  14.9/15.0 MB 2.4 MB/s eta 0:00:01\n",
      "   ---------------------------------------  14.9/15.0 MB 2.4 MB/s eta 0:00:01\n",
      "   ---------------------------------------  14.9/15.0 MB 2.4 MB/s eta 0:00:01\n",
      "   ---------------------------------------- 15.0/15.0 MB 2.0 MB/s eta 0:00:00\n",
      "Downloading sentence_transformers-4.1.0-py3-none-any.whl (345 kB)\n",
      "Installing collected packages: faiss-cpu, sentence-transformers\n",
      "Successfully installed faiss-cpu-1.11.0 sentence-transformers-4.1.0\n",
      "Note: you may need to restart the kernel to use updated packages.\n"
     ]
    },
    {
     "name": "stderr",
     "output_type": "stream",
     "text": [
      "\n",
      "[notice] A new release of pip is available: 25.0 -> 25.1.1\n",
      "[notice] To update, run: python.exe -m pip install --upgrade pip\n"
     ]
    }
   ],
   "source": [
    "pip install faiss-cpu sentence-transformers openai"
   ]
  },
  {
   "cell_type": "code",
   "execution_count": 2,
   "id": "8ddb2db3",
   "metadata": {},
   "outputs": [
    {
     "name": "stderr",
     "output_type": "stream",
     "text": [
      "c:\\Users\\Acer\\AppData\\Local\\Programs\\Python\\Python39\\lib\\site-packages\\tqdm\\auto.py:21: TqdmWarning: IProgress not found. Please update jupyter and ipywidgets. See https://ipywidgets.readthedocs.io/en/stable/user_install.html\n",
      "  from .autonotebook import tqdm as notebook_tqdm\n"
     ]
    },
    {
     "name": "stdout",
     "output_type": "stream",
     "text": [
      "WARNING:tensorflow:From c:\\Users\\Acer\\AppData\\Local\\Programs\\Python\\Python39\\lib\\site-packages\\tf_keras\\src\\losses.py:2976: The name tf.losses.sparse_softmax_cross_entropy is deprecated. Please use tf.compat.v1.losses.sparse_softmax_cross_entropy instead.\n",
      "\n"
     ]
    },
    {
     "name": "stderr",
     "output_type": "stream",
     "text": [
      "c:\\Users\\Acer\\AppData\\Local\\Programs\\Python\\Python39\\lib\\site-packages\\huggingface_hub\\file_download.py:140: UserWarning: `huggingface_hub` cache-system uses symlinks by default to efficiently store duplicated files but your machine does not support them in C:\\Users\\Acer\\.cache\\huggingface\\hub\\models--sentence-transformers--all-MiniLM-L6-v2. Caching files will still work but in a degraded version that might require more space on your disk. This warning can be disabled by setting the `HF_HUB_DISABLE_SYMLINKS_WARNING` environment variable. For more details, see https://huggingface.co/docs/huggingface_hub/how-to-cache#limitations.\n",
      "To support symlinks on Windows, you either need to activate Developer Mode or to run Python as an administrator. In order to activate developer mode, see this article: https://docs.microsoft.com/en-us/windows/apps/get-started/enable-your-device-for-development\n",
      "  warnings.warn(message)\n"
     ]
    }
   ],
   "source": [
    "from sentence_transformers import SentenceTransformer\n",
    "import faiss\n",
    "import numpy as np\n",
    "\n",
    "# Sample documents (your knowledge base)\n",
    "documents = [\n",
    "    \"The capital of France is Paris.\",\n",
    "    \"Python is a popular programming language.\",\n",
    "    \"Machine learning allows computers to learn from data.\",\n",
    "    \"The Great Wall of China is visible from space.\"\n",
    "]\n",
    "\n",
    "# Load embedding model\n",
    "model = SentenceTransformer('all-MiniLM-L6-v2')\n",
    "\n",
    "# Create vector embeddings\n",
    "doc_embeddings = model.encode(documents)\n",
    "\n",
    "# Convert to numpy array\n",
    "doc_embeddings = np.array(doc_embeddings).astype(\"float32\")\n"
   ]
  },
  {
   "cell_type": "code",
   "execution_count": 3,
   "id": "a9a5e27e",
   "metadata": {},
   "outputs": [],
   "source": [
    "# Create FAISS index\n",
    "index = faiss.IndexFlatL2(doc_embeddings.shape[1])\n",
    "index.add(doc_embeddings)\n"
   ]
  },
  {
   "cell_type": "code",
   "execution_count": 4,
   "id": "d0bdd1b9",
   "metadata": {},
   "outputs": [],
   "source": [
    "def search(query, top_k=2):\n",
    "    query_vec = model.encode([query]).astype(\"float32\")\n",
    "    distances, indices = index.search(query_vec, top_k)\n",
    "    return [documents[i] for i in indices[0]]\n",
    "\n"
   ]
  },
  {
   "cell_type": "code",
   "execution_count": 5,
   "id": "3c0b601a",
   "metadata": {},
   "outputs": [
    {
     "name": "stdout",
     "output_type": "stream",
     "text": [
      "Top Results: ['Machine learning allows computers to learn from data.', 'Python is a popular programming language.']\n"
     ]
    }
   ],
   "source": [
    "query = \"Tell me about artificial intelligence.\"\n",
    "results = search(query)\n",
    "print(\"Top Results:\", results)"
   ]
  },
  {
   "cell_type": "code",
   "execution_count": 7,
   "id": "2c1e4292",
   "metadata": {},
   "outputs": [
    {
     "name": "stdout",
     "output_type": "stream",
     "text": [
      "Top Results: ['The capital of France is Paris.', 'The Great Wall of China is visible from space.']\n"
     ]
    }
   ],
   "source": [
    "query = \"Tell me about France.\"\n",
    "results = search(query)\n",
    "print(\"Top Results:\", results)"
   ]
  },
  {
   "cell_type": "code",
   "execution_count": null,
   "id": "2512ca51",
   "metadata": {},
   "outputs": [],
   "source": []
  }
 ],
 "metadata": {
  "kernelspec": {
   "display_name": "Python 3",
   "language": "python",
   "name": "python3"
  },
  "language_info": {
   "codemirror_mode": {
    "name": "ipython",
    "version": 3
   },
   "file_extension": ".py",
   "mimetype": "text/x-python",
   "name": "python",
   "nbconvert_exporter": "python",
   "pygments_lexer": "ipython3",
   "version": "3.9.6"
  }
 },
 "nbformat": 4,
 "nbformat_minor": 5
}
