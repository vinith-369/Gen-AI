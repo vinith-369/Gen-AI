{
 "cells": [
  {
   "cell_type": "code",
   "execution_count": 1,
   "id": "11241072",
   "metadata": {},
   "outputs": [],
   "source": [
    "from typing import TypedDict, Annotated\n",
    "from langgraph.graph import add_messages, StateGraph, END\n",
    "from langchain_groq import ChatGroq\n",
    "from langchain_core.messages import AIMessage, HumanMessage\n",
    "from langgraph.checkpoint.memory import MemorySaver"
   ]
  },
  {
   "cell_type": "code",
   "execution_count": 2,
   "id": "ddcfcec3",
   "metadata": {},
   "outputs": [],
   "source": [
    "memory = MemorySaver()\n",
    "\n",
    "groq_api = \"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\"\n",
    "\n",
    "llm = ChatGroq(model=\"llama-3.1-8b-instant\", api_key=groq_api)"
   ]
  },
  {
   "cell_type": "code",
   "execution_count": 3,
   "id": "6a3e81d3",
   "metadata": {},
   "outputs": [],
   "source": [
    "class BasicChatState(TypedDict): \n",
    "    messages: Annotated[list, add_messages]\n",
    "\n",
    "def chatbot(state: BasicChatState): \n",
    "    return {\n",
    "       \"messages\": [llm.invoke(state[\"messages\"])]\n",
    "    }"
   ]
  },
  {
   "cell_type": "code",
   "execution_count": 4,
   "id": "536be58c",
   "metadata": {},
   "outputs": [],
   "source": [
    "\n",
    "graph = StateGraph(BasicChatState)\n",
    "\n",
    "graph.add_node(\"chatbot\", chatbot)\n",
    "\n",
    "graph.add_edge(\"chatbot\", END)\n",
    "\n",
    "graph.set_entry_point(\"chatbot\")\n",
    "\n",
    "app = graph.compile(checkpointer=memory)"
   ]
  },
  {
   "cell_type": "code",
   "execution_count": 5,
   "id": "ec93e7a7",
   "metadata": {},
   "outputs": [],
   "source": [
    "config = {\"configurable\": {\n",
    "    \"thread_id\": 369\n",
    "}}"
   ]
  },
  {
   "cell_type": "code",
   "execution_count": 6,
   "id": "92e4e8f9",
   "metadata": {},
   "outputs": [
    {
     "name": "stdout",
     "output_type": "stream",
     "text": [
      "AI: Hi Vinith, it's nice to meet you. Is there something I can help you with or would you like to chat?\n",
      "AI: Your name is Vinith.\n",
      "AI: Unfortunately, it's a bit challenging to guess your age based solely on your name, as names don't typically reveal age information.\n",
      "\n",
      "However, I can make an educated guess based on cultural and linguistic patterns. Since I don't have any information about your cultural background, I'll make a general guess.\n",
      "\n",
      "Typically, Indian names, which seem to be common in the name \"Vinith,\" are often associated with people born between the 1980s and 2000s. This is just a rough estimate and not a scientific fact.\n",
      "\n",
      "So, based on this assumption, I'd guess that you're likely between 20 to 40 years old. Keep in mind that this is just a wild guess and may not be accurate at all!\n"
     ]
    }
   ],
   "source": [
    "\n",
    "while True: \n",
    "    user_input = input(\"User: \")\n",
    "    if(user_input in [\"exit\", \"end\"]):\n",
    "        break\n",
    "    else: \n",
    "        result = app.invoke({\n",
    "            \"messages\": [HumanMessage(content=user_input)]\n",
    "        }, config=config)\n",
    "\n",
    "        print(\"AI: \" + result[\"messages\"][-1].content)\n"
   ]
  },
  {
   "cell_type": "code",
   "execution_count": null,
   "id": "508528b9",
   "metadata": {},
   "outputs": [],
   "source": []
  }
 ],
 "metadata": {
  "kernelspec": {
   "display_name": "Python 3",
   "language": "python",
   "name": "python3"
  },
  "language_info": {
   "codemirror_mode": {
    "name": "ipython",
    "version": 3
   },
   "file_extension": ".py",
   "mimetype": "text/x-python",
   "name": "python",
   "nbconvert_exporter": "python",
   "pygments_lexer": "ipython3",
   "version": "3.9.6"
  }
 },
 "nbformat": 4,
 "nbformat_minor": 5
}
