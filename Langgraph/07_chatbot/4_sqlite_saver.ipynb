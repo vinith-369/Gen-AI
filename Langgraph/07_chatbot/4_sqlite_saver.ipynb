{
 "cells": [
  {
   "cell_type": "code",
   "execution_count": 1,
   "id": "16790665",
   "metadata": {},
   "outputs": [],
   "source": [
    "from typing import TypedDict, Annotated\n",
    "from langgraph.graph import add_messages, StateGraph, END\n",
    "from langchain_groq import ChatGroq\n",
    "from langchain_core.messages import AIMessage, HumanMessage\n",
    "from langgraph.checkpoint.memory import MemorySaver\n",
    "from langgraph.checkpoint.sqlite import SqliteSaver\n",
    "import sqlite3"
   ]
  },
  {
   "cell_type": "code",
   "execution_count": 3,
   "id": "8e96bd8d",
   "metadata": {},
   "outputs": [],
   "source": [
    "connection = sqlite3.connect(\"checkpoint.sqlite\",check_same_thread=False)\n",
    "memory = SqliteSaver(conn=connection)"
   ]
  },
  {
   "cell_type": "code",
   "execution_count": 4,
   "id": "611fcb4c",
   "metadata": {},
   "outputs": [],
   "source": [
    "\n",
    "groq_api = \"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\"\n",
    "\n",
    "llm = ChatGroq(\n",
    "    model=\"llama-3.1-8b-instant\",\n",
    "    groq_api_key=groq_api\n",
    ")\n"
   ]
  },
  {
   "cell_type": "code",
   "execution_count": 5,
   "id": "d82d0b44",
   "metadata": {},
   "outputs": [],
   "source": [
    "class BasicState(TypedDict):\n",
    "    messages: Annotated[list,add_messages]\n",
    "\n",
    "    \n",
    "def llm_node(state: BasicState):\n",
    "    return {\n",
    "        \"messages\":[llm.invoke(state[\"messages\"])]\n",
    "    }\n"
   ]
  },
  {
   "cell_type": "code",
   "execution_count": 6,
   "id": "86e7787c",
   "metadata": {},
   "outputs": [],
   "source": [
    "graph = StateGraph(BasicState)\n",
    "graph.add_node(\"llm_node\",llm_node)\n",
    "graph.add_edge(\"llm_node\",END)\n",
    "graph.set_entry_point(\"llm_node\")\n",
    "app = graph.compile(checkpointer=memory)\n"
   ]
  },
  {
   "cell_type": "code",
   "execution_count": 7,
   "id": "0380e770",
   "metadata": {},
   "outputs": [],
   "source": [
    "config = { \"configurable\":{\n",
    "   \"thread_id\":1\n",
    "}\n",
    "}"
   ]
  },
  {
   "cell_type": "code",
   "execution_count": 11,
   "id": "140338c2",
   "metadata": {},
   "outputs": [
    {
     "name": "stdout",
     "output_type": "stream",
     "text": [
      "Bot: Your name is Vinith.\n",
      "Bot: You told me you're 21 years old.\n",
      "Bot: If you need anything else, feel free to ask. Have a great day!\n"
     ]
    }
   ],
   "source": [
    "while True:\n",
    "    user_input = input(\"You: \")\n",
    "    if user_input.lower() == \"exit\":\n",
    "        break\n",
    "    response = app.invoke({\"messages\":[HumanMessage(user_input)]},config=config)\n",
    "    print(f\"Bot: {response['messages'][-1].content}\")\n"
   ]
  },
  {
   "cell_type": "code",
   "execution_count": null,
   "id": "ff68fe0b",
   "metadata": {},
   "outputs": [],
   "source": []
  },
  {
   "cell_type": "code",
   "execution_count": null,
   "id": "86d7da1c",
   "metadata": {},
   "outputs": [],
   "source": []
  }
 ],
 "metadata": {
  "kernelspec": {
   "display_name": "Python 3",
   "language": "python",
   "name": "python3"
  },
  "language_info": {
   "codemirror_mode": {
    "name": "ipython",
    "version": 3
   },
   "file_extension": ".py",
   "mimetype": "text/x-python",
   "name": "python",
   "nbconvert_exporter": "python",
   "pygments_lexer": "ipython3",
   "version": "3.9.6"
  }
 },
 "nbformat": 4,
 "nbformat_minor": 5
}
